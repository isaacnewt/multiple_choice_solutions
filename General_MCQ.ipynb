{
 "cells": [
  {
   "cell_type": "code",
   "execution_count": null,
   "id": "28b4948b",
   "metadata": {},
   "outputs": [],
   "source": [
    "''' list of imports ''' \n",
    "import matplotlib.pyplot as plt \n",
    "from sklearn.linear_model import LinearRegression \n",
    "from math import sqrt \n",
    "import os \n",
    "import numpy as np \n",
    "import pandas as pd \n",
    "import sqlite3 import sqlalchemy "
   ]
  },
  {
   "cell_type": "code",
   "execution_count": null,
   "id": "2ffe8a71",
   "metadata": {},
   "outputs": [],
   "source": [
    "f = lambda x: 2 if x==0 else (x-1)\n",
    "print(f(4))"
   ]
  },
  {
   "cell_type": "code",
   "execution_count": null,
   "id": "5c789293",
   "metadata": {},
   "outputs": [],
   "source": [
    "import regex as re\n",
    "\n",
    "CLEANR = re.compile('<.*?>')\n",
    "html = '<html><head> hello </head></html>'\n",
    "cleantext = re.sub(CLEANR, '',html)\n",
    "cleantext = cleantext.strip()\n",
    "print(cleantext)"
   ]
  },
  {
   "cell_type": "code",
   "execution_count": null,
   "id": "36c9a077",
   "metadata": {},
   "outputs": [],
   "source": [
    "s = '1256'\n",
    "s = [int(x) for x in s]\n",
    "print(s)"
   ]
  },
  {
   "cell_type": "code",
   "execution_count": null,
   "id": "e5228cec",
   "metadata": {},
   "outputs": [],
   "source": [
    "lit = ['xyz', \"vidhya\", \"Analytics\"]\n",
    "print(min(lit))"
   ]
  },
  {
   "cell_type": "code",
   "execution_count": null,
   "id": "0b7bc012",
   "metadata": {},
   "outputs": [],
   "source": [
    "student_groups = ['Amit', 'Bhuv', ['praya', 'bruva',['priya']]]\n",
    "\n",
    "student_groups[2][2][0]"
   ]
  },
  {
   "cell_type": "code",
   "execution_count": null,
   "id": "493aa201",
   "metadata": {},
   "outputs": [],
   "source": [
    "for x in range(1,50,5):\n",
    "    if (x % 5 == 0):\n",
    "        print('divisible by 5')\n",
    "    else:\n",
    "        continue"
   ]
  },
  {
   "cell_type": "code",
   "execution_count": null,
   "id": "5980ffbe",
   "metadata": {},
   "outputs": [],
   "source": [
    "[1,2,3] + [4,5,6]"
   ]
  },
  {
   "cell_type": "code",
   "execution_count": null,
   "id": "4aa405e3",
   "metadata": {},
   "outputs": [],
   "source": [
    "i = 2\n",
    "while True:\n",
    "    if i%3 == 0 or i%4 == 0:\n",
    "        break\n",
    "    print(i)\n",
    "    i += 2"
   ]
  },
  {
   "cell_type": "code",
   "execution_count": null,
   "id": "ef60cedb",
   "metadata": {},
   "outputs": [],
   "source": [
    "for i in range(5):\n",
    "    if i%2==0:\n",
    "        print(i, sep='x', end='')\n",
    "    else:\n",
    "        print(i, end='+')"
   ]
  },
  {
   "cell_type": "code",
   "execution_count": null,
   "id": "4caebfde",
   "metadata": {},
   "outputs": [],
   "source": [
    "print(chr(ord(\"9\")), \",\" , chr(ord(\"B\")))"
   ]
  },
  {
   "cell_type": "code",
   "execution_count": null,
   "id": "08cab448",
   "metadata": {},
   "outputs": [],
   "source": [
    "num =12\n",
    "if (10 < num and num < 20):\n",
    "    print(True)"
   ]
  },
  {
   "cell_type": "code",
   "execution_count": null,
   "id": "6857dd89",
   "metadata": {},
   "outputs": [],
   "source": [
    "set1 = {1,2,3}\n",
    "set2 = {4,5,6}\n",
    "\n",
    "print(str(set1) + str(set2))"
   ]
  },
  {
   "cell_type": "code",
   "execution_count": null,
   "id": "c6f5937f",
   "metadata": {},
   "outputs": [],
   "source": [
    "print(set1 , set2)"
   ]
  },
  {
   "cell_type": "code",
   "execution_count": null,
   "id": "7d9a7110",
   "metadata": {},
   "outputs": [],
   "source": [
    "[i**2 for i in range(-3,4) if bool(i)==True]"
   ]
  },
  {
   "cell_type": "code",
   "execution_count": null,
   "id": "c594f1be",
   "metadata": {},
   "outputs": [],
   "source": [
    "def fast(x=[]):\n",
    "    x.append(1)\n",
    "    return x\n",
    "\n",
    "print(fast())\n",
    "print(fast())"
   ]
  },
  {
   "cell_type": "code",
   "execution_count": null,
   "id": "86cd7e1f",
   "metadata": {},
   "outputs": [],
   "source": [
    "a = ['Apples', 'Oranges', 'Bananas']\n",
    "b = [5, 3, 4]\n",
    "c = [1.50, 2.25, 0.89]\n",
    "\n",
    "#Desired output[('Apples', 5, 1.50),('Oranges', 3, 2.25),('Bananas', 4, 0.89)]\n",
    "def dezire(fruits, quantities, prices):\n",
    "    i = 0\n",
    "    output = []\n",
    "    for fruit in fruits:\n",
    "        temp_qty = quantities[i]\n",
    "        temp_price = prices[i]\n",
    "        output.append((fruit, temp_qty, temp_price))\n",
    "        i += 1\n",
    "    return output\n",
    "\n",
    "dezire(a,b,c)"
   ]
  },
  {
   "cell_type": "code",
   "execution_count": null,
   "id": "4a07c0ef",
   "metadata": {},
   "outputs": [],
   "source": [
    "def print_alpha_nums(abc_list, num_list):\n",
    "    for char in abc_list:\n",
    "        for num in num_list:\n",
    "            print(char, num)\n",
    "    return\n",
    "\n",
    "print_alpha_nums(['a', 'b', 'c'], [1, 2, 3])"
   ]
  },
  {
   "cell_type": "code",
   "execution_count": null,
   "id": "c55ade47",
   "metadata": {},
   "outputs": [],
   "source": [
    "fruits = {'Apples': 5, 'Oranges': 3, 'Bananas': 4}\n",
    "\n",
    "# fruit_names = [x for x in fruits.keys()]\n",
    "\n",
    "fruit_names = [x for x in fruits.values()]\n",
    "\n",
    "fruit_names"
   ]
  },
  {
   "cell_type": "code",
   "execution_count": null,
   "id": "95a0ae95",
   "metadata": {},
   "outputs": [],
   "source": [
    "SampleList = ['Jon', 'Kelly', 'Jessa']\n",
    "\n",
    "SampleList.append(\"Scott\")\n",
    "\n",
    "print(SampleList)\n",
    "\n",
    "SampleList[2] = \"Adkins\"\n",
    "# SampleList.insert(2, \"Scott\")\n",
    "\n",
    "print(SampleList)"
   ]
  },
  {
   "cell_type": "code",
   "execution_count": null,
   "id": "7ee8f744",
   "metadata": {},
   "outputs": [],
   "source": []
  },
  {
   "cell_type": "code",
   "execution_count": null,
   "id": "9fa93e4d",
   "metadata": {},
   "outputs": [],
   "source": [
    "x = 0\n",
    "if x!=10:\n",
    "    print(\"#\")\n",
    "    if x<8:\n",
    "        print(\"#\")\n",
    "    elif x==10:\n",
    "        print(\"#\")\n",
    "    else:\n",
    "        print(\"#\")\n",
    "else:\n",
    "    print(\"#\"*3)"
   ]
  },
  {
   "cell_type": "code",
   "execution_count": null,
   "id": "22f5bb6e",
   "metadata": {},
   "outputs": [],
   "source": [
    "name = input()\n",
    "print(name == \" Robert \")"
   ]
  },
  {
   "cell_type": "code",
   "execution_count": null,
   "id": "55f6d974",
   "metadata": {},
   "outputs": [],
   "source": [
    "i=0\n",
    "while i < 1:\n",
    "    print('Hello', end=\", \")\n",
    "    i += 1\n",
    "else:\n",
    "    print(\"World\")"
   ]
  },
  {
   "cell_type": "code",
   "execution_count": null,
   "id": "b6d740fe",
   "metadata": {},
   "outputs": [],
   "source": [
    "Tupl = ['Python', 'Tuple']\n",
    "print(tuple(Tupl))"
   ]
  },
  {
   "cell_type": "code",
   "execution_count": null,
   "id": "c53726e7",
   "metadata": {},
   "outputs": [],
   "source": [
    "milk_left = \"None\"\n",
    "if milk_left:\n",
    "    print(\"Groceries trip pending!\")\n",
    "else:\n",
    "    print(\"Let's enjoy a bowl of cereals\")"
   ]
  },
  {
   "cell_type": "code",
   "execution_count": null,
   "id": "f7476d3a",
   "metadata": {},
   "outputs": [],
   "source": [
    "\n",
    "def put(x):\n",
    "    return [6]\n",
    "val = [0, 1, 2, 3, 4, 5]\n",
    "y = put(val);\n",
    "print(y)"
   ]
  },
  {
   "cell_type": "code",
   "execution_count": null,
   "id": "b67727ba",
   "metadata": {},
   "outputs": [],
   "source": [
    "Dict = dict({1: 'Python', 2: 'Dictionaries'})\n",
    "print(Dict)"
   ]
  },
  {
   "cell_type": "code",
   "execution_count": null,
   "id": "beb97476",
   "metadata": {},
   "outputs": [],
   "source": [
    "Dict = {'Name': 'Python', 1: [1, 2, 3, 4], 2: \"hi\"}\n",
    "print(Dict)"
   ]
  },
  {
   "cell_type": "code",
   "execution_count": null,
   "id": "8acfd196",
   "metadata": {},
   "outputs": [],
   "source": [
    "print(\"Hello\",\"\\nPython!\")"
   ]
  },
  {
   "cell_type": "code",
   "execution_count": null,
   "id": "9627992b",
   "metadata": {},
   "outputs": [],
   "source": [
    "full_name = \"robert method karamagi\"\n",
    "print(full_name.title())"
   ]
  },
  {
   "cell_type": "code",
   "execution_count": null,
   "id": "a70cc647",
   "metadata": {},
   "outputs": [],
   "source": [
    "def sum(a,b):\n",
    "    return a * b\n",
    "    return a + b\n",
    "print(sum(2,3))"
   ]
  },
  {
   "cell_type": "code",
   "execution_count": null,
   "id": "7c1370c5",
   "metadata": {},
   "outputs": [],
   "source": [
    "age = 19\n",
    "print(not age > 18 and age < 20)"
   ]
  },
  {
   "cell_type": "code",
   "execution_count": null,
   "id": "067d0683",
   "metadata": {},
   "outputs": [],
   "source": [
    "nums = [1, 2, 3, 4, 5, 6, 7]\n",
    "print(nums[::-1])"
   ]
  },
  {
   "cell_type": "code",
   "execution_count": null,
   "id": "d234302e",
   "metadata": {},
   "outputs": [],
   "source": [
    "a = input()\n",
    "b = input()\n",
    "print(a + b * 3)"
   ]
  },
  {
   "cell_type": "code",
   "execution_count": null,
   "id": "c6476b57",
   "metadata": {},
   "outputs": [],
   "source": [
    "print(\"Hello\",\"World\",\"Python\", sep=\"#\")"
   ]
  },
  {
   "cell_type": "code",
   "execution_count": null,
   "id": "ac56563a",
   "metadata": {},
   "outputs": [],
   "source": [
    "print (5//4)"
   ]
  },
  {
   "cell_type": "code",
   "execution_count": null,
   "id": "81667e60",
   "metadata": {},
   "outputs": [],
   "source": [
    "def vagrant(var1, var2 =4, var3=5):\n",
    "    variable = var1*var2*var3\n",
    "    return variable\n",
    "\n",
    "vagrant(3,5)"
   ]
  },
  {
   "cell_type": "code",
   "execution_count": null,
   "id": "f9928ba9",
   "metadata": {},
   "outputs": [],
   "source": [
    "import numpy as np\n",
    "\n",
    "t = np.array([1,2,3,4, 7,8,3,4,2,4])\n",
    "\n",
    "np.nonzero(t==8)[0][0]"
   ]
  },
  {
   "cell_type": "code",
   "execution_count": null,
   "id": "a92d9d95",
   "metadata": {},
   "outputs": [],
   "source": [
    "import numpy as np\n",
    "\n",
    "t = np.array([1,1,1,2,2,3,8,3,8,8])\n",
    "\n",
    "np.nonzero(t==8)[0][0]"
   ]
  },
  {
   "cell_type": "code",
   "execution_count": null,
   "id": "99ad5666",
   "metadata": {},
   "outputs": [],
   "source": [
    "ava = [1,2,3,4, 7,8,3,4,2,4]\n",
    "\n",
    "class Solution:\n",
    "    def __init__(self, name):\n",
    "        self.name = name \n",
    "\n",
    "    def poper(self):\n",
    "        self.awa = self.name.pop()\n",
    "        return  self.awa\n",
    "\n",
    "print(Solution(ava).poper())"
   ]
  },
  {
   "cell_type": "code",
   "execution_count": null,
   "id": "87b6a9ae",
   "metadata": {},
   "outputs": [],
   "source": [
    "class Father():\n",
    "    name = 'Robert'\n",
    "class Person(Father):\n",
    "    def __init__(self, name):\n",
    "        self.fathername = self.name\n",
    "        self.name = name\n",
    "    def introduce(self):\n",
    "        print(\"My name is\", self.name, \"son of\", self.fathername)\n",
    "\n",
    "king = Person(\"Joffrey\")\n",
    "king.introduce()"
   ]
  },
  {
   "cell_type": "code",
   "execution_count": null,
   "id": "c9ea2c92",
   "metadata": {},
   "outputs": [],
   "source": [
    "{x : x*x for x in range(1,10)}"
   ]
  },
  {
   "cell_type": "code",
   "execution_count": null,
   "id": "58964515",
   "metadata": {},
   "outputs": [],
   "source": [
    "characters = [\"Iron Man\", \"Spider Man\", \"Captain America\"]\n",
    "actors = [\"Downey\", \"Holland\", \"Evans\"]\n",
    "\n",
    "# example output : [(\"IronMan\", \"Downey\"), (\"Spider Man\", \"Holland\"), (\"Captain America\", \"Evans\")]\n",
    "\n",
    "combiner = [(x,y) for x in characters for y in actors]\n",
    "\n",
    "#zip(characters, actors)"
   ]
  },
  {
   "cell_type": "code",
   "execution_count": null,
   "id": "5350fec7",
   "metadata": {},
   "outputs": [],
   "source": [
    "print(combiner)"
   ]
  },
  {
   "cell_type": "code",
   "execution_count": null,
   "id": "ac552696",
   "metadata": {},
   "outputs": [],
   "source": [
    "import numpy as np\n",
    "vector = np.arange(10000)\n",
    "matrix = vector.reshape(100, 100)"
   ]
  },
  {
   "cell_type": "code",
   "execution_count": null,
   "id": "b0461137",
   "metadata": {},
   "outputs": [],
   "source": [
    "matrix"
   ]
  },
  {
   "cell_type": "code",
   "execution_count": null,
   "id": "eff97162",
   "metadata": {},
   "outputs": [],
   "source": [
    "vector = np.arange(12)\n",
    "m1 = vector.reshape(3, 4)\n",
    "\n",
    "vector = np.arange(20)\n",
    "m2 = vector.reshape(4, 5)"
   ]
  },
  {
   "cell_type": "code",
   "execution_count": null,
   "id": "9c08586e",
   "metadata": {},
   "outputs": [],
   "source": [
    "\n",
    "def can_matrices_be_multiplied (matrix1, matrix2):\n",
    "    rowsMat1, columnsMat1 = matrix1.shape\n",
    "    rowsMat2, columnsMat2 = matrix2.shape\n",
    "\n",
    "    if columnsMat2 == rowsMat1 :\n",
    "        print('The matrices can be multipled!')\n",
    "        return True\n",
    "    else:\n",
    "        return False\n",
    "    \n",
    "can_matrices_be_multiplied(m1, m2)"
   ]
  },
  {
   "cell_type": "code",
   "execution_count": null,
   "id": "bf330e23",
   "metadata": {},
   "outputs": [],
   "source": [
    "num_list = [21, 13, 19, 3, 11, 5, 18]\n",
    "num_list.sort()\n",
    "print(num_list[len(num_list) // 2])"
   ]
  },
  {
   "cell_type": "code",
   "execution_count": null,
   "id": "8088ca2c",
   "metadata": {},
   "outputs": [],
   "source": [
    "my_list = [2, 'apple', 3.5]"
   ]
  },
  {
   "cell_type": "code",
   "execution_count": null,
   "id": "fe8d8904",
   "metadata": {},
   "outputs": [],
   "source": [
    "import numpy as np\n",
    "a = np.array([1,2,3])\n",
    "b = np.array([4,5,6])\n",
    "c = a*b\n",
    "d = np.dot(a,b)\n",
    "c, d"
   ]
  },
  {
   "cell_type": "code",
   "execution_count": null,
   "id": "1ca0d9f5",
   "metadata": {},
   "outputs": [],
   "source": [
    "fruit_info = {\n",
    "    'fruit': 'apple',\n",
    "    'count': 2,\n",
    "    'price': 3.5\n",
    "}\n",
    "my_keys = fruit_info.keys()\n",
    "my_keys"
   ]
  },
  {
   "cell_type": "code",
   "execution_count": null,
   "id": "96ea766d",
   "metadata": {},
   "outputs": [],
   "source": [
    "a = np.array([1,2,3,4])\n",
    "print(a[[True, True, False, False]])"
   ]
  },
  {
   "cell_type": "code",
   "execution_count": null,
   "id": "2d9af67a",
   "metadata": {},
   "outputs": [],
   "source": [
    "import numpy as np\n",
    "men = np.ones([1,2,3,4,5])\n",
    "men"
   ]
  },
  {
   "cell_type": "code",
   "execution_count": null,
   "id": "65eb6eca",
   "metadata": {},
   "outputs": [],
   "source": [
    "def count_recursive(n=1):\n",
    "    if n > 3:\n",
    "        return\n",
    "    print(n)\n",
    "    count_recursive(n + 1)\n",
    "    \n",
    "count_recursive()"
   ]
  },
  {
   "cell_type": "code",
   "execution_count": 1,
   "id": "8a88b474",
   "metadata": {},
   "outputs": [
    {
     "data": {
      "text/plain": [
       "-1"
      ]
     },
     "execution_count": 1,
     "metadata": {},
     "output_type": "execute_result"
    },
    {
     "data": {
      "text/plain": [
       "-1"
      ]
     },
     "execution_count": 1,
     "metadata": {},
     "output_type": "execute_result"
    },
    {
     "data": {
      "text/plain": [
       "-1"
      ]
     },
     "execution_count": 1,
     "metadata": {},
     "output_type": "execute_result"
    }
   ],
   "source": [
    "import math\n",
    "num = ~0\n",
    "num\n",
    "#6&4,1|2, 8>>1, -16>>2, 1<<10, ~0,\n",
    "#math.ceil(2.17) #, math.floor(3. 14),"
   ]
  },
  {
   "cell_type": "code",
   "execution_count": 2,
   "id": "87727869",
   "metadata": {},
   "outputs": [
    {
     "data": {
      "text/plain": [
       "(2, 4)"
      ]
     },
     "execution_count": 2,
     "metadata": {},
     "output_type": "execute_result"
    },
    {
     "data": {
      "text/plain": [
       "(2, 4)"
      ]
     },
     "execution_count": 2,
     "metadata": {},
     "output_type": "execute_result"
    },
    {
     "data": {
      "text/plain": [
       "(2, 4)"
      ]
     },
     "execution_count": 2,
     "metadata": {},
     "output_type": "execute_result"
    }
   ],
   "source": [
    "n, m = 2, 4\n",
    "n, m"
   ]
  },
  {
   "cell_type": "code",
   "execution_count": null,
   "id": "ccc1249d",
   "metadata": {},
   "outputs": [],
   "source": [
    "class ListNode:\n",
    "    def __init__(self, data=0, next_node=None):\n",
    "        self.data = data\n",
    "        self.next_node = next_node\n",
    "        \n",
    "def merge_two_sorted_lists (L1, L2):\n",
    "        # Creates a pTaceholder for the result\n",
    "        dummy_head = tail = ListNode()\n",
    "        while L1 and L2:\n",
    "            if L1.data < L2.data:\n",
    "                tail.next , L1 = L1, L1.next\n",
    "            else:\n",
    "                tail.next , L2 = L2, L2.next\n",
    "            tail = tail.next\n",
    "        # Appends the remaining nodes of Ll or L2\n",
    "        tail.next = L1 or L2\n",
    "        return dunmy-head. next    "
   ]
  },
  {
   "cell_type": "code",
   "execution_count": null,
   "id": "4e5a6076",
   "metadata": {},
   "outputs": [],
   "source": [
    "n = ['maggi', '2', 'weather']\n",
    "m = [1,2,'you', 'him', 'html']\n",
    "numa = ListNode()\n",
    "verv = numa.merge_two_sorted_lists(n, m)"
   ]
  },
  {
   "cell_type": "code",
   "execution_count": null,
   "id": "8e50dc1f",
   "metadata": {},
   "outputs": [],
   "source": []
  }
 ],
 "metadata": {
  "kernelspec": {
   "display_name": "Python 3 (ipykernel)",
   "language": "python",
   "name": "python3"
  },
  "language_info": {
   "codemirror_mode": {
    "name": "ipython",
    "version": 3
   },
   "file_extension": ".py",
   "mimetype": "text/x-python",
   "name": "python",
   "nbconvert_exporter": "python",
   "pygments_lexer": "ipython3",
   "version": "3.8.8"
  }
 },
 "nbformat": 4,
 "nbformat_minor": 5
}
